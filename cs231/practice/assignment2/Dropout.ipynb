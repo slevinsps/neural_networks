{
 "cells": [
  {
   "cell_type": "markdown",
   "metadata": {},
   "source": [
    "# Dropout\n",
    "Dropout [1] is a technique for regularizing neural networks by randomly setting some features to zero during the forward pass. In this exercise you will implement a dropout layer and modify your fully-connected network to optionally use dropout.\n",
    "\n",
    "[1] Geoffrey E. Hinton et al, \"Improving neural networks by preventing co-adaptation of feature detectors\", arXiv 2012"
   ]
  },
  {
   "cell_type": "code",
   "execution_count": 1,
   "metadata": {},
   "outputs": [
    {
     "name": "stdout",
     "output_type": "stream",
     "text": [
      "run the following from the cs231n directory and try again:\n",
      "python setup.py build_ext --inplace\n",
      "You may also need to restart your iPython kernel\n"
     ]
    }
   ],
   "source": [
    "# As usual, a bit of setup\n",
    "from __future__ import print_function\n",
    "import time\n",
    "import numpy as np\n",
    "import matplotlib.pyplot as plt\n",
    "from cs231n.classifiers.fc_net import *\n",
    "from cs231n.data_utils import get_CIFAR10_data\n",
    "from cs231n.gradient_check import eval_numerical_gradient, eval_numerical_gradient_array\n",
    "from cs231n.solver import Solver\n",
    "\n",
    "%matplotlib inline\n",
    "plt.rcParams['figure.figsize'] = (10.0, 8.0) # set default size of plots\n",
    "plt.rcParams['image.interpolation'] = 'nearest'\n",
    "plt.rcParams['image.cmap'] = 'gray'\n",
    "\n",
    "# for auto-reloading external modules\n",
    "# see http://stackoverflow.com/questions/1907993/autoreload-of-modules-in-ipython\n",
    "%load_ext autoreload\n",
    "%autoreload 2\n",
    "\n",
    "def rel_error(x, y):\n",
    "  \"\"\" returns relative error \"\"\"\n",
    "  return np.max(np.abs(x - y) / (np.maximum(1e-8, np.abs(x) + np.abs(y))))"
   ]
  },
  {
   "cell_type": "code",
   "execution_count": 2,
   "metadata": {},
   "outputs": [
    {
     "name": "stdout",
     "output_type": "stream",
     "text": [
      "X_train:  (49000, 3, 32, 32)\n",
      "y_train:  (49000,)\n",
      "X_val:  (1000, 3, 32, 32)\n",
      "y_val:  (1000,)\n",
      "X_test:  (1000, 3, 32, 32)\n",
      "y_test:  (1000,)\n"
     ]
    }
   ],
   "source": [
    "# Load the (preprocessed) CIFAR10 data.\n",
    "\n",
    "data = get_CIFAR10_data()\n",
    "for k, v in data.items():\n",
    "  print('%s: ' % k, v.shape)"
   ]
  },
  {
   "cell_type": "markdown",
   "metadata": {},
   "source": [
    "# Dropout forward pass\n",
    "In the file `cs231n/layers.py`, implement the forward pass for dropout. Since dropout behaves differently during training and testing, make sure to implement the operation for both modes.\n",
    "\n",
    "Once you have done so, run the cell below to test your implementation."
   ]
  },
  {
   "cell_type": "code",
   "execution_count": 5,
   "metadata": {},
   "outputs": [
    {
     "name": "stdout",
     "output_type": "stream",
     "text": [
      "Running tests with p =  0.3\n",
      "Mean of input:  10.000207878477502\n",
      "Mean of train-time output:  9.981116262290229\n",
      "Mean of test-time output:  10.000207878477502\n",
      "Fraction of train-time output set to zero:  0.700504\n",
      "Fraction of test-time output set to zero:  0.0\n",
      "\n",
      "Running tests with p =  0.6\n",
      "Mean of input:  10.000207878477502\n",
      "Mean of train-time output:  10.008532106856094\n",
      "Mean of test-time output:  10.000207878477502\n",
      "Fraction of train-time output set to zero:  0.399452\n",
      "Fraction of test-time output set to zero:  0.0\n",
      "\n",
      "Running tests with p =  0.75\n",
      "Mean of input:  10.000207878477502\n",
      "Mean of train-time output:  9.990864967703597\n",
      "Mean of test-time output:  10.000207878477502\n",
      "Fraction of train-time output set to zero:  0.250584\n",
      "Fraction of test-time output set to zero:  0.0\n",
      "\n"
     ]
    }
   ],
   "source": [
    "np.random.seed(231)\n",
    "x = np.random.randn(500, 500) + 10\n",
    "\n",
    "for p in [0.3, 0.6, 0.75]:\n",
    "  out, _ = dropout_forward(x, {'mode': 'train', 'p': p})\n",
    "  out_test, _ = dropout_forward(x, {'mode': 'test', 'p': p})\n",
    "\n",
    "  print('Running tests with p = ', p)\n",
    "  print('Mean of input: ', x.mean())\n",
    "  print('Mean of train-time output: ', out.mean())\n",
    "  print('Mean of test-time output: ', out_test.mean())\n",
    "  print('Fraction of train-time output set to zero: ', (out == 0).mean())\n",
    "  print('Fraction of test-time output set to zero: ', (out_test == 0).mean())\n",
    "  print()"
   ]
  },
  {
   "cell_type": "markdown",
   "metadata": {},
   "source": [
    "# Dropout backward pass\n",
    "In the file `cs231n/layers.py`, implement the backward pass for dropout. After doing so, run the following cell to numerically gradient-check your implementation."
   ]
  },
  {
   "cell_type": "code",
   "execution_count": 15,
   "metadata": {},
   "outputs": [
    {
     "name": "stdout",
     "output_type": "stream",
     "text": [
      "dx relative error:  5.445612718272284e-11\n"
     ]
    }
   ],
   "source": [
    "np.random.seed(231)\n",
    "x = np.random.randn(10, 10) + 10\n",
    "dout = np.random.randn(*x.shape)\n",
    "\n",
    "dropout_param = {'mode': 'train', 'p': 0.8, 'seed': 123}\n",
    "out, cache = dropout_forward(x, dropout_param)\n",
    "dx = dropout_backward(dout, cache)\n",
    "dx_num = eval_numerical_gradient_array(lambda xx: dropout_forward(xx, dropout_param)[0], x, dout)\n",
    "\n",
    "print('dx relative error: ', rel_error(dx, dx_num))"
   ]
  },
  {
   "cell_type": "markdown",
   "metadata": {},
   "source": [
    "# Fully-connected nets with Dropout\n",
    "In the file `cs231n/classifiers/fc_net.py`, modify your implementation to use dropout. Specificially, if the constructor the the net receives a nonzero value for the `dropout` parameter, then the net should add dropout immediately after every ReLU nonlinearity. After doing so, run the following to numerically gradient-check your implementation."
   ]
  },
  {
   "cell_type": "code",
   "execution_count": 16,
   "metadata": {},
   "outputs": [
    {
     "name": "stdout",
     "output_type": "stream",
     "text": [
      "Running check with dropout =  0\n",
      "Initial loss:  2.3004790897684924\n",
      "W1 relative error: 1.48e-07\n",
      "W2 relative error: 2.21e-05\n",
      "W3 relative error: 3.53e-07\n",
      "b1 relative error: 5.38e-09\n",
      "b2 relative error: 2.09e-09\n",
      "b3 relative error: 5.80e-11\n",
      "\n",
      "Running check with dropout =  0.25\n",
      "Initial loss:  2.2924325088330475\n",
      "W1 relative error: 2.74e-08\n",
      "W2 relative error: 2.98e-09\n",
      "W3 relative error: 4.29e-09\n",
      "b1 relative error: 7.78e-10\n",
      "b2 relative error: 3.36e-10\n",
      "b3 relative error: 1.65e-10\n",
      "\n",
      "Running check with dropout =  0.5\n",
      "Initial loss:  2.3042759220785896\n",
      "W1 relative error: 3.11e-07\n",
      "W2 relative error: 1.84e-08\n",
      "W3 relative error: 5.35e-08\n",
      "b1 relative error: 5.37e-09\n",
      "b2 relative error: 2.99e-09\n",
      "b3 relative error: 1.13e-10\n",
      "\n"
     ]
    }
   ],
   "source": [
    "np.random.seed(231)\n",
    "N, D, H1, H2, C = 2, 15, 20, 30, 10\n",
    "X = np.random.randn(N, D)\n",
    "y = np.random.randint(C, size=(N,))\n",
    "\n",
    "for dropout in [0, 0.25, 0.5]:\n",
    "  print('Running check with dropout = ', dropout)\n",
    "  model = FullyConnectedNet([H1, H2], input_dim=D, num_classes=C,\n",
    "                            weight_scale=5e-2, dtype=np.float64,\n",
    "                            dropout=dropout, seed=123)\n",
    "\n",
    "  loss, grads = model.loss(X, y)\n",
    "  print('Initial loss: ', loss)\n",
    "\n",
    "  for name in sorted(grads):\n",
    "    f = lambda _: model.loss(X, y)[0]\n",
    "    grad_num = eval_numerical_gradient(f, model.params[name], verbose=False, h=1e-5)\n",
    "    print('%s relative error: %.2e' % (name, rel_error(grad_num, grads[name])))\n",
    "  print()"
   ]
  },
  {
   "cell_type": "markdown",
   "metadata": {},
   "source": [
    "# Regularization experiment\n",
    "As an experiment, we will train a pair of two-layer networks on 500 training examples: one will use no dropout, and one will use a dropout probability of 0.75. We will then visualize the training and validation accuracies of the two networks over time."
   ]
  },
  {
   "cell_type": "code",
   "execution_count": 20,
   "metadata": {},
   "outputs": [
    {
     "data": {
      "text/plain": [
       "array([[0., 0., 0.],\n",
       "       [0., 0., 0.],\n",
       "       [0., 0., 0.],\n",
       "       [0., 0., 0.],\n",
       "       [0., 0., 0.]])"
      ]
     },
     "execution_count": 20,
     "metadata": {},
     "output_type": "execute_result"
    }
   ],
   "source": [
    "\n",
    "bb = np.random.rand(5,3) * 10\n",
    "aa = (np.random.rand(5,3) < 0)\n",
    "bb * aa"
   ]
  },
  {
   "cell_type": "code",
   "execution_count": 22,
   "metadata": {
    "scrolled": false
   },
   "outputs": [
    {
     "name": "stdout",
     "output_type": "stream",
     "text": [
      "0\n",
      "(Iteration 1 / 125) loss: 7.856643\n",
      "(Epoch 0 / 25) train acc: 0.260000; val_acc: 0.184000\n",
      "(Epoch 1 / 25) train acc: 0.416000; val_acc: 0.258000\n",
      "(Epoch 2 / 25) train acc: 0.482000; val_acc: 0.276000\n",
      "(Epoch 3 / 25) train acc: 0.532000; val_acc: 0.277000\n",
      "(Epoch 4 / 25) train acc: 0.600000; val_acc: 0.271000\n",
      "(Epoch 5 / 25) train acc: 0.708000; val_acc: 0.299000\n",
      "(Epoch 6 / 25) train acc: 0.722000; val_acc: 0.282000\n",
      "(Epoch 7 / 25) train acc: 0.832000; val_acc: 0.255000\n",
      "(Epoch 8 / 25) train acc: 0.878000; val_acc: 0.269000\n",
      "(Epoch 9 / 25) train acc: 0.902000; val_acc: 0.275000\n",
      "(Epoch 10 / 25) train acc: 0.888000; val_acc: 0.261000\n",
      "(Epoch 11 / 25) train acc: 0.926000; val_acc: 0.278000\n",
      "(Epoch 12 / 25) train acc: 0.960000; val_acc: 0.302000\n",
      "(Epoch 13 / 25) train acc: 0.964000; val_acc: 0.306000\n",
      "(Epoch 14 / 25) train acc: 0.966000; val_acc: 0.309000\n",
      "(Epoch 15 / 25) train acc: 0.976000; val_acc: 0.288000\n",
      "(Epoch 16 / 25) train acc: 0.988000; val_acc: 0.302000\n",
      "(Epoch 17 / 25) train acc: 0.988000; val_acc: 0.310000\n",
      "(Epoch 18 / 25) train acc: 0.990000; val_acc: 0.313000\n",
      "(Epoch 19 / 25) train acc: 0.990000; val_acc: 0.314000\n",
      "(Epoch 20 / 25) train acc: 0.988000; val_acc: 0.312000\n",
      "(Iteration 101 / 125) loss: 0.124202\n",
      "(Epoch 21 / 25) train acc: 0.990000; val_acc: 0.300000\n",
      "(Epoch 22 / 25) train acc: 0.982000; val_acc: 0.304000\n",
      "(Epoch 23 / 25) train acc: 0.984000; val_acc: 0.302000\n",
      "(Epoch 24 / 25) train acc: 0.996000; val_acc: 0.303000\n",
      "(Epoch 25 / 25) train acc: 0.994000; val_acc: 0.293000\n",
      "0.75\n",
      "(Iteration 1 / 125) loss: 11.299055\n",
      "(Epoch 0 / 25) train acc: 0.234000; val_acc: 0.187000\n",
      "(Epoch 1 / 25) train acc: 0.388000; val_acc: 0.241000\n",
      "(Epoch 2 / 25) train acc: 0.552000; val_acc: 0.263000\n",
      "(Epoch 3 / 25) train acc: 0.608000; val_acc: 0.265000\n",
      "(Epoch 4 / 25) train acc: 0.676000; val_acc: 0.282000\n",
      "(Epoch 5 / 25) train acc: 0.760000; val_acc: 0.285000\n",
      "(Epoch 6 / 25) train acc: 0.766000; val_acc: 0.291000\n",
      "(Epoch 7 / 25) train acc: 0.836000; val_acc: 0.271000\n",
      "(Epoch 8 / 25) train acc: 0.866000; val_acc: 0.288000\n",
      "(Epoch 9 / 25) train acc: 0.858000; val_acc: 0.283000\n",
      "(Epoch 10 / 25) train acc: 0.840000; val_acc: 0.275000\n",
      "(Epoch 11 / 25) train acc: 0.904000; val_acc: 0.295000\n",
      "(Epoch 12 / 25) train acc: 0.932000; val_acc: 0.291000\n",
      "(Epoch 13 / 25) train acc: 0.920000; val_acc: 0.292000\n",
      "(Epoch 14 / 25) train acc: 0.950000; val_acc: 0.296000\n",
      "(Epoch 15 / 25) train acc: 0.958000; val_acc: 0.307000\n",
      "(Epoch 16 / 25) train acc: 0.954000; val_acc: 0.297000\n",
      "(Epoch 17 / 25) train acc: 0.970000; val_acc: 0.308000\n",
      "(Epoch 18 / 25) train acc: 0.960000; val_acc: 0.306000\n",
      "(Epoch 19 / 25) train acc: 0.968000; val_acc: 0.306000\n",
      "(Epoch 20 / 25) train acc: 0.962000; val_acc: 0.279000\n",
      "(Iteration 101 / 125) loss: 0.637352\n",
      "(Epoch 21 / 25) train acc: 0.986000; val_acc: 0.285000\n",
      "(Epoch 22 / 25) train acc: 0.970000; val_acc: 0.294000\n",
      "(Epoch 23 / 25) train acc: 0.966000; val_acc: 0.314000\n",
      "(Epoch 24 / 25) train acc: 0.982000; val_acc: 0.295000\n",
      "(Epoch 25 / 25) train acc: 0.966000; val_acc: 0.285000\n",
      "0.5\n",
      "(Iteration 1 / 125) loss: 13.319308\n",
      "(Epoch 0 / 25) train acc: 0.220000; val_acc: 0.169000\n",
      "(Epoch 1 / 25) train acc: 0.368000; val_acc: 0.219000\n",
      "(Epoch 2 / 25) train acc: 0.508000; val_acc: 0.297000\n",
      "(Epoch 3 / 25) train acc: 0.630000; val_acc: 0.307000\n",
      "(Epoch 4 / 25) train acc: 0.680000; val_acc: 0.315000\n",
      "(Epoch 5 / 25) train acc: 0.684000; val_acc: 0.322000\n",
      "(Epoch 6 / 25) train acc: 0.696000; val_acc: 0.288000\n",
      "(Epoch 7 / 25) train acc: 0.778000; val_acc: 0.295000\n",
      "(Epoch 8 / 25) train acc: 0.784000; val_acc: 0.318000\n",
      "(Epoch 9 / 25) train acc: 0.812000; val_acc: 0.276000\n",
      "(Epoch 10 / 25) train acc: 0.796000; val_acc: 0.293000\n",
      "(Epoch 11 / 25) train acc: 0.848000; val_acc: 0.293000\n",
      "(Epoch 12 / 25) train acc: 0.866000; val_acc: 0.312000\n",
      "(Epoch 13 / 25) train acc: 0.886000; val_acc: 0.301000\n",
      "(Epoch 14 / 25) train acc: 0.864000; val_acc: 0.296000\n",
      "(Epoch 15 / 25) train acc: 0.916000; val_acc: 0.327000\n",
      "(Epoch 16 / 25) train acc: 0.910000; val_acc: 0.311000\n",
      "(Epoch 17 / 25) train acc: 0.940000; val_acc: 0.301000\n",
      "(Epoch 18 / 25) train acc: 0.968000; val_acc: 0.316000\n",
      "(Epoch 19 / 25) train acc: 0.964000; val_acc: 0.316000\n",
      "(Epoch 20 / 25) train acc: 0.974000; val_acc: 0.328000\n",
      "(Iteration 101 / 125) loss: 1.866432\n",
      "(Epoch 21 / 25) train acc: 0.948000; val_acc: 0.318000\n",
      "(Epoch 22 / 25) train acc: 0.984000; val_acc: 0.311000\n",
      "(Epoch 23 / 25) train acc: 0.956000; val_acc: 0.320000\n",
      "(Epoch 24 / 25) train acc: 0.930000; val_acc: 0.328000\n",
      "(Epoch 25 / 25) train acc: 0.960000; val_acc: 0.313000\n",
      "0.25\n",
      "(Iteration 1 / 125) loss: 16.387609\n",
      "(Epoch 0 / 25) train acc: 0.236000; val_acc: 0.197000\n",
      "(Epoch 1 / 25) train acc: 0.348000; val_acc: 0.247000\n",
      "(Epoch 2 / 25) train acc: 0.470000; val_acc: 0.265000\n",
      "(Epoch 3 / 25) train acc: 0.540000; val_acc: 0.300000\n",
      "(Epoch 4 / 25) train acc: 0.558000; val_acc: 0.305000\n",
      "(Epoch 5 / 25) train acc: 0.608000; val_acc: 0.305000\n",
      "(Epoch 6 / 25) train acc: 0.640000; val_acc: 0.318000\n",
      "(Epoch 7 / 25) train acc: 0.668000; val_acc: 0.336000\n",
      "(Epoch 8 / 25) train acc: 0.694000; val_acc: 0.301000\n",
      "(Epoch 9 / 25) train acc: 0.716000; val_acc: 0.280000\n",
      "(Epoch 10 / 25) train acc: 0.768000; val_acc: 0.301000\n",
      "(Epoch 11 / 25) train acc: 0.796000; val_acc: 0.306000\n",
      "(Epoch 12 / 25) train acc: 0.786000; val_acc: 0.332000\n",
      "(Epoch 13 / 25) train acc: 0.772000; val_acc: 0.314000\n",
      "(Epoch 14 / 25) train acc: 0.822000; val_acc: 0.310000\n",
      "(Epoch 15 / 25) train acc: 0.806000; val_acc: 0.294000\n",
      "(Epoch 16 / 25) train acc: 0.830000; val_acc: 0.285000\n",
      "(Epoch 17 / 25) train acc: 0.852000; val_acc: 0.302000\n",
      "(Epoch 18 / 25) train acc: 0.860000; val_acc: 0.331000\n",
      "(Epoch 19 / 25) train acc: 0.884000; val_acc: 0.327000\n",
      "(Epoch 20 / 25) train acc: 0.880000; val_acc: 0.334000\n",
      "(Iteration 101 / 125) loss: 6.688934\n",
      "(Epoch 21 / 25) train acc: 0.874000; val_acc: 0.321000\n",
      "(Epoch 22 / 25) train acc: 0.880000; val_acc: 0.304000\n",
      "(Epoch 23 / 25) train acc: 0.918000; val_acc: 0.308000\n",
      "(Epoch 24 / 25) train acc: 0.918000; val_acc: 0.331000\n",
      "(Epoch 25 / 25) train acc: 0.914000; val_acc: 0.317000\n",
      "0.1\n",
      "(Iteration 1 / 125) loss: 27.718857\n",
      "(Epoch 0 / 25) train acc: 0.194000; val_acc: 0.186000\n",
      "(Epoch 1 / 25) train acc: 0.298000; val_acc: 0.239000\n",
      "(Epoch 2 / 25) train acc: 0.364000; val_acc: 0.254000\n",
      "(Epoch 3 / 25) train acc: 0.424000; val_acc: 0.275000\n",
      "(Epoch 4 / 25) train acc: 0.418000; val_acc: 0.293000\n",
      "(Epoch 5 / 25) train acc: 0.466000; val_acc: 0.278000\n",
      "(Epoch 6 / 25) train acc: 0.482000; val_acc: 0.278000\n",
      "(Epoch 7 / 25) train acc: 0.542000; val_acc: 0.300000\n",
      "(Epoch 8 / 25) train acc: 0.582000; val_acc: 0.327000\n",
      "(Epoch 9 / 25) train acc: 0.560000; val_acc: 0.305000\n",
      "(Epoch 10 / 25) train acc: 0.598000; val_acc: 0.339000\n",
      "(Epoch 11 / 25) train acc: 0.584000; val_acc: 0.331000\n",
      "(Epoch 12 / 25) train acc: 0.614000; val_acc: 0.304000\n",
      "(Epoch 13 / 25) train acc: 0.604000; val_acc: 0.310000\n",
      "(Epoch 14 / 25) train acc: 0.662000; val_acc: 0.317000\n",
      "(Epoch 15 / 25) train acc: 0.680000; val_acc: 0.326000\n",
      "(Epoch 16 / 25) train acc: 0.682000; val_acc: 0.316000\n",
      "(Epoch 17 / 25) train acc: 0.670000; val_acc: 0.313000\n",
      "(Epoch 18 / 25) train acc: 0.704000; val_acc: 0.335000\n",
      "(Epoch 19 / 25) train acc: 0.720000; val_acc: 0.341000\n",
      "(Epoch 20 / 25) train acc: 0.710000; val_acc: 0.331000\n",
      "(Iteration 101 / 125) loss: 16.379053\n",
      "(Epoch 21 / 25) train acc: 0.718000; val_acc: 0.327000\n",
      "(Epoch 22 / 25) train acc: 0.738000; val_acc: 0.330000\n",
      "(Epoch 23 / 25) train acc: 0.744000; val_acc: 0.322000\n",
      "(Epoch 24 / 25) train acc: 0.738000; val_acc: 0.326000\n",
      "(Epoch 25 / 25) train acc: 0.746000; val_acc: 0.330000\n"
     ]
    }
   ],
   "source": [
    "# Train two identical nets, one with dropout and one without\n",
    "np.random.seed(231)\n",
    "num_train = 500\n",
    "small_data = {\n",
    "  'X_train': data['X_train'][:num_train],\n",
    "  'y_train': data['y_train'][:num_train],\n",
    "  'X_val': data['X_val'],\n",
    "  'y_val': data['y_val'],\n",
    "}\n",
    "\n",
    "solvers = {}\n",
    "dropout_choices = [0, 0.75, 0.5, 0.25, 0.1]\n",
    "for dropout in dropout_choices:\n",
    "  model = FullyConnectedNet([500], dropout=dropout)\n",
    "  print(dropout)\n",
    "\n",
    "  solver = Solver(model, small_data,\n",
    "                  num_epochs=25, batch_size=100,\n",
    "                  update_rule='adam',\n",
    "                  optim_config={\n",
    "                    'learning_rate': 5e-4,\n",
    "                  },\n",
    "                  verbose=True, print_every=100)\n",
    "  solver.train()\n",
    "  solvers[dropout] = solver"
   ]
  },
  {
   "cell_type": "code",
   "execution_count": 23,
   "metadata": {},
   "outputs": [
    {
     "data": {
      "image/png": "[encoded data removed]",
      "text/plain": [
       "<Figure size 1080x1080 with 2 Axes>"
      ]
     },
     "metadata": {
      "needs_background": "light"
     },
     "output_type": "display_data"
    }
   ],
   "source": [
    "# Plot train and validation accuracies of the two models\n",
    "\n",
    "train_accs = []\n",
    "val_accs = []\n",
    "for dropout in dropout_choices:\n",
    "  solver = solvers[dropout]\n",
    "  train_accs.append(solver.train_acc_history[-1])\n",
    "  val_accs.append(solver.val_acc_history[-1])\n",
    "\n",
    "plt.subplot(3, 1, 1)\n",
    "for dropout in dropout_choices:\n",
    "  plt.plot(solvers[dropout].train_acc_history, 'o', label='%.2f dropout' % dropout)\n",
    "plt.title('Train accuracy')\n",
    "plt.xlabel('Epoch')\n",
    "plt.ylabel('Accuracy')\n",
    "plt.legend(ncol=2, loc='lower right')\n",
    "  \n",
    "plt.subplot(3, 1, 2)\n",
    "for dropout in dropout_choices:\n",
    "  plt.plot(solvers[dropout].val_acc_history, 'o', label='%.2f dropout' % dropout)\n",
    "plt.title('Val accuracy')\n",
    "plt.xlabel('Epoch')\n",
    "plt.ylabel('Accuracy')\n",
    "plt.legend(ncol=2, loc='lower right')\n",
    "\n",
    "plt.gcf().set_size_inches(15, 15)\n",
    "plt.show()"
   ]
  },
  {
   "cell_type": "markdown",
   "metadata": {},
   "source": [
    "# Question\n",
    "Explain what you see in this experiment. What does it suggest about dropout?"
   ]
  },
  {
   "cell_type": "markdown",
   "metadata": {},
   "source": [
    "# Answer\n"
   ]
  }
 ],
 "metadata": {
  "kernelspec": {
   "display_name": "Python 3",
   "language": "python",
   "name": "python3"
  },
  "language_info": {
   "codemirror_mode": {
    "name": "ipython",
    "version": 3
   },
   "file_extension": ".py",
   "mimetype": "text/x-python",
   "name": "python",
   "nbconvert_exporter": "python",
   "pygments_lexer": "ipython3",
   "version": "3.7.4"
  }
 },
 "nbformat": 4,
 "nbformat_minor": 1
}
